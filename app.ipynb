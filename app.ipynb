{
 "cells": [
  {
   "cell_type": "code",
   "execution_count": 1,
   "metadata": {},
   "outputs": [],
   "source": [
    "import numpy as np\n",
    "import tensorflow as tf\n",
    "from tensorflow.keras import layers, models"
   ]
  },
  {
   "cell_type": "code",
   "execution_count": null,
   "metadata": {},
   "outputs": [],
   "source": [
    "from collections import deque\n",
    "memorySize=1000\n",
    "lr=0.001\n",
    "df=0.9\n",
    "syncRate=10\n",
    "miniBatchSize=32"
   ]
  },
  {
   "cell_type": "code",
   "execution_count": 2,
   "metadata": {},
   "outputs": [],
   "source": [
    "# Define the model\n",
    "def build_model():\n",
    "    model = models.Sequential()\n",
    "    model.add(layers.InputLayer(input_shape=(16,)))    # Input layer with 16 nodes\n",
    "    model.add(layers.Dense(16, activation='relu'))     # Hidden layer with 16 nodes and ReLU activation\n",
    "    model.add(layers.Dense(4, activation='softmax'))   # Output layer with 4 nodes and Softmax activation\n",
    "    model.compile(optimizer='adam',\n",
    "                  loss='mse',lr=lr)\n",
    "    return model\n"
   ]
  },
  {
   "cell_type": "code",
   "execution_count": 6,
   "metadata": {},
   "outputs": [],
   "source": [
    "\n"
   ]
  },
  {
   "cell_type": "code",
   "execution_count": 8,
   "metadata": {},
   "outputs": [],
   "source": [
    "def stateToDQNInput(state,num_states=16):\n",
    "    one_hot_vector = np.zeros(num_states)\n",
    "    one_hot_vector[state] = 1\n",
    "    return one_hot_vector"
   ]
  },
  {
   "cell_type": "code",
   "execution_count": 10,
   "metadata": {},
   "outputs": [
    {
     "data": {
      "text/plain": [
       "(0, {'prob': 1})"
      ]
     },
     "execution_count": 10,
     "metadata": {},
     "output_type": "execute_result"
    }
   ],
   "source": [
    "import gym\n",
    "env=gym.make(\"FrozenLake-v1\", map_name=\"4x4\", is_slippery=False, render_mode=\"rgb_array\")\n",
    "state=env.reset()\n",
    "state"
   ]
  },
  {
   "cell_type": "code",
   "execution_count": 12,
   "metadata": {},
   "outputs": [
    {
     "data": {
      "text/plain": [
       "array([1., 0., 0., 0., 0., 0., 0., 0., 0., 0., 0., 0., 0., 0., 0., 0.])"
      ]
     },
     "execution_count": 12,
     "metadata": {},
     "output_type": "execute_result"
    }
   ],
   "source": [
    "stateToDQNInput(state[0])"
   ]
  },
  {
   "cell_type": "code",
   "execution_count": 13,
   "metadata": {},
   "outputs": [
    {
     "data": {
      "text/plain": [
       "3"
      ]
     },
     "execution_count": 13,
     "metadata": {},
     "output_type": "execute_result"
    }
   ],
   "source": [
    "env.action_space.sample()"
   ]
  },
  {
   "cell_type": "code",
   "execution_count": 14,
   "metadata": {},
   "outputs": [
    {
     "name": "stderr",
     "output_type": "stream",
     "text": [
      "c:\\Users\\User\\AppData\\Local\\Programs\\Python\\Python311\\Lib\\site-packages\\gym\\utils\\passive_env_checker.py:233: DeprecationWarning: `np.bool8` is a deprecated alias for `np.bool_`.  (Deprecated NumPy 1.24)\n",
      "  if not isinstance(terminated, (bool, np.bool8)):\n"
     ]
    },
    {
     "data": {
      "text/plain": [
       "(0, 0.0, False, False, {'prob': 1.0})"
      ]
     },
     "execution_count": 14,
     "metadata": {},
     "output_type": "execute_result"
    }
   ],
   "source": [
    "env.step(3)"
   ]
  },
  {
   "cell_type": "code",
   "execution_count": 19,
   "metadata": {},
   "outputs": [
    {
     "data": {
      "text/plain": [
       "1"
      ]
     },
     "execution_count": 19,
     "metadata": {},
     "output_type": "execute_result"
    }
   ],
   "source": [
    "np.array([2,33,1,1]).argmax()"
   ]
  },
  {
   "cell_type": "code",
   "execution_count": null,
   "metadata": {},
   "outputs": [],
   "source": [
    "def optimize(miniBatch,policyDQN,targetDQN):\n",
    "    numStates=16\n",
    "    currentQList=[]\n",
    "    targerQList=[]\n",
    "    for state,action,newState,reward,terminated in miniBatch:\n",
    "        if terminated:\n",
    "            target=reward\n",
    "        else:\n",
    "            target=\n"
   ]
  },
  {
   "cell_type": "code",
   "execution_count": 7,
   "metadata": {},
   "outputs": [],
   "source": [
    "import gym\n",
    "import random\n",
    "def train(episodes,render=False, is_slippery=False):\n",
    "    env=gym.make(\"FrozenLake-v1\", map_name=\"4x4\", is_slippery=False, render_mode=\"rgb_array\")\n",
    "    num_states=env.observation_space.n\n",
    "    num_actions=env.action_space.n\n",
    "    epsilon=1\n",
    "    replayMemory=deque(maxlen=memorySize)\n",
    "    policyDQN=build_model()\n",
    "    targetDQN=build_model()\n",
    "    targetDQN.set_weights(policyDQN.get_weights())\n",
    "    stepCount=0\n",
    "    rewardsPerEpisodes=np.zeros(episodes)\n",
    "    for i in range(episodes):\n",
    "        state=env.reset()[0]\n",
    "        terminated=False\n",
    "        truncated=False\n",
    "        while(not truncated and not terminated):\n",
    "            random_num = random.uniform(0, 1)\n",
    "            if random_num > epsilon:\n",
    "                action =policyDQN(stateToDQNInput(state)).argmax().item()\n",
    "            else:\n",
    "                action = env.action_space.sample()\n",
    "            newState,reward,terminated,truncated,_=env.step(action)\n",
    "            replayMemory.append((state,action,newState,reward,terminated))\n",
    "            state=newState\n",
    "            stepCount=stepCount+1\n",
    "        if reward== 1:\n",
    "            rewardsPerEpisodes[i]=1\n",
    "        if(len(replayMemory)>miniBatchSize and np.sum(rewardsPerEpisodes)>=1):\n",
    "            miniBatch=replayMemory.sample(miniBatchSize)\n",
    "            optimize(miniBatch,policyDQN,targetDQN)"
   ]
  },
  {
   "cell_type": "code",
   "execution_count": null,
   "metadata": {},
   "outputs": [],
   "source": []
  }
 ],
 "metadata": {
  "kernelspec": {
   "display_name": "Python 3",
   "language": "python",
   "name": "python3"
  },
  "language_info": {
   "codemirror_mode": {
    "name": "ipython",
    "version": 3
   },
   "file_extension": ".py",
   "mimetype": "text/x-python",
   "name": "python",
   "nbconvert_exporter": "python",
   "pygments_lexer": "ipython3",
   "version": "3.11.5"
  }
 },
 "nbformat": 4,
 "nbformat_minor": 2
}
